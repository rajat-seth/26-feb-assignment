{
 "cells": [
  {
   "cell_type": "code",
   "execution_count": 1,
   "id": "77d44238-dfc5-4b83-8157-331650c6de11",
   "metadata": {},
   "outputs": [],
   "source": [
    "import numpy as np\n",
    "list_ = [ '1', '2' , '3' , '4' , '5' ]\n",
    "array_list = np.array(object = list_)"
   ]
  },
  {
   "cell_type": "markdown",
   "id": "f61b0afb-713c-4e26-abe7-08cf37006808",
   "metadata": {},
   "source": [
    "Q1)"
   ]
  },
  {
   "cell_type": "markdown",
   "id": "d424f5c5-da93-4b80-a6ac-5d6238fae45b",
   "metadata": {},
   "source": [
    "list is an interface while array list is a class."
   ]
  },
  {
   "cell_type": "code",
   "execution_count": 3,
   "id": "8be34c51-eb27-4b56-8ba2-5ee773c3c56d",
   "metadata": {},
   "outputs": [
    {
     "name": "stdout",
     "output_type": "stream",
     "text": [
      "['1', '2', '3', '4', '5']\n"
     ]
    }
   ],
   "source": [
    "print(list_)"
   ]
  },
  {
   "cell_type": "code",
   "execution_count": 4,
   "id": "0d8ee95e-8f22-4d2e-acd4-5511a9ba078c",
   "metadata": {},
   "outputs": [
    {
     "name": "stdout",
     "output_type": "stream",
     "text": [
      "['1' '2' '3' '4' '5']\n"
     ]
    }
   ],
   "source": [
    "print(array_list)"
   ]
  },
  {
   "cell_type": "markdown",
   "id": "ae5ee58f-cf89-4795-99ab-282fac3c145f",
   "metadata": {},
   "source": [
    "as one can notice array represent a whole class."
   ]
  },
  {
   "cell_type": "markdown",
   "id": "7447c2a5-def3-450c-8220-c48429a35a6b",
   "metadata": {},
   "source": [
    "Q2)"
   ]
  },
  {
   "cell_type": "code",
   "execution_count": 7,
   "id": "8361e845-4b9a-43f7-a609-630cf52bfe2b",
   "metadata": {},
   "outputs": [
    {
     "name": "stdout",
     "output_type": "stream",
     "text": [
      "<class 'str'>\n",
      "<class 'str'>\n",
      "<class 'str'>\n",
      "<class 'str'>\n",
      "<class 'str'>\n"
     ]
    }
   ],
   "source": [
    "for element in list_:\n",
    "    print (type(element))"
   ]
  },
  {
   "cell_type": "code",
   "execution_count": 8,
   "id": "55c29177-1fcb-479a-97f9-b4960490b5d5",
   "metadata": {},
   "outputs": [
    {
     "name": "stdout",
     "output_type": "stream",
     "text": [
      "<class 'numpy.str_'>\n",
      "<class 'numpy.str_'>\n",
      "<class 'numpy.str_'>\n",
      "<class 'numpy.str_'>\n",
      "<class 'numpy.str_'>\n"
     ]
    }
   ],
   "source": [
    "for element in array_list:\n",
    "    print(type(element))"
   ]
  },
  {
   "cell_type": "markdown",
   "id": "276b6b79-f8e4-47ff-83d8-a54f16a46d47",
   "metadata": {},
   "source": [
    "Q3)"
   ]
  },
  {
   "cell_type": "code",
   "execution_count": 9,
   "id": "a80f24b7-59d4-422a-8d33-ce2054a7832b",
   "metadata": {},
   "outputs": [],
   "source": [
    "array_list = np.array(object = list_, dtype = int)"
   ]
  },
  {
   "cell_type": "code",
   "execution_count": 10,
   "id": "4b4691fb-2dda-497d-8512-079b19d79834",
   "metadata": {},
   "outputs": [
    {
     "name": "stdout",
     "output_type": "stream",
     "text": [
      "<class 'numpy.int64'>\n",
      "<class 'numpy.int64'>\n",
      "<class 'numpy.int64'>\n",
      "<class 'numpy.int64'>\n",
      "<class 'numpy.int64'>\n"
     ]
    }
   ],
   "source": [
    "for element in array_list:\n",
    "    print(type(element))"
   ]
  },
  {
   "cell_type": "code",
   "execution_count": 11,
   "id": "49858312-8ab8-4da5-87c1-e78eaf5b03a3",
   "metadata": {},
   "outputs": [
    {
     "name": "stdout",
     "output_type": "stream",
     "text": [
      "<class 'str'>\n",
      "<class 'str'>\n",
      "<class 'str'>\n",
      "<class 'str'>\n",
      "<class 'str'>\n"
     ]
    }
   ],
   "source": [
    "for element in list_:\n",
    "    print(type(element))"
   ]
  },
  {
   "cell_type": "markdown",
   "id": "80b4cc81-4d5e-4dc3-a9fc-e004be81df38",
   "metadata": {},
   "source": [
    "So there is a change in datatype of array_list but not in the datatype of variable_list_"
   ]
  },
  {
   "cell_type": "markdown",
   "id": "4c9e7e4e-449d-4aac-ad0c-0738a42dd3ea",
   "metadata": {},
   "source": [
    "Q4)"
   ]
  },
  {
   "cell_type": "code",
   "execution_count": 12,
   "id": "c9b246f5-d4ed-4c23-b71c-2927618d50ba",
   "metadata": {},
   "outputs": [],
   "source": [
    "import numpy as np\n",
    "num_list = [ [ 1 , 2 , 3 ] , [ 4 , 5 , 6 ] ]\n",
    "num_array = np.array(object = num_list)"
   ]
  },
  {
   "cell_type": "code",
   "execution_count": 16,
   "id": "5ecb1feb-fa0c-4e25-8ad0-82069d800c81",
   "metadata": {},
   "outputs": [
    {
     "name": "stdout",
     "output_type": "stream",
     "text": [
      "(2, 3)\n"
     ]
    }
   ],
   "source": [
    "print(num_array.shape)"
   ]
  },
  {
   "cell_type": "code",
   "execution_count": 17,
   "id": "11def938-4048-4f45-8bf9-b685db922850",
   "metadata": {},
   "outputs": [
    {
     "name": "stdout",
     "output_type": "stream",
     "text": [
      "6\n"
     ]
    }
   ],
   "source": [
    "print(num_array.size)"
   ]
  },
  {
   "cell_type": "markdown",
   "id": "76c613bb-9a45-4da8-8d48-58daabfef97c",
   "metadata": {},
   "source": [
    "Q5)"
   ]
  },
  {
   "cell_type": "code",
   "execution_count": 18,
   "id": "9a6c8c79-1e97-466b-a81f-df7a866b19a6",
   "metadata": {},
   "outputs": [],
   "source": [
    "a=np.zeros((3,3))"
   ]
  },
  {
   "cell_type": "code",
   "execution_count": 19,
   "id": "09b362b2-15b2-4c19-9fbf-65917e6a9983",
   "metadata": {},
   "outputs": [
    {
     "data": {
      "text/plain": [
       "array([[0., 0., 0.],\n",
       "       [0., 0., 0.],\n",
       "       [0., 0., 0.]])"
      ]
     },
     "execution_count": 19,
     "metadata": {},
     "output_type": "execute_result"
    }
   ],
   "source": [
    "a"
   ]
  },
  {
   "cell_type": "code",
   "execution_count": 2,
   "id": "56c9008b-da12-493e-b319-6347000b8686",
   "metadata": {},
   "outputs": [],
   "source": [
    "b=np.identity((5),dtype=\"int\")"
   ]
  },
  {
   "cell_type": "code",
   "execution_count": 3,
   "id": "34da3b37-8e78-42f4-8eba-cb0e5a81a06f",
   "metadata": {},
   "outputs": [
    {
     "data": {
      "text/plain": [
       "array([[1, 0, 0, 0, 0],\n",
       "       [0, 1, 0, 0, 0],\n",
       "       [0, 0, 1, 0, 0],\n",
       "       [0, 0, 0, 1, 0],\n",
       "       [0, 0, 0, 0, 1]])"
      ]
     },
     "execution_count": 3,
     "metadata": {},
     "output_type": "execute_result"
    }
   ],
   "source": [
    "b"
   ]
  },
  {
   "cell_type": "code",
   "execution_count": null,
   "id": "70bebfe2-7d3e-4045-abfa-f9c4386eb3c7",
   "metadata": {},
   "outputs": [],
   "source": []
  }
 ],
 "metadata": {
  "kernelspec": {
   "display_name": "Python 3 (ipykernel)",
   "language": "python",
   "name": "python3"
  },
  "language_info": {
   "codemirror_mode": {
    "name": "ipython",
    "version": 3
   },
   "file_extension": ".py",
   "mimetype": "text/x-python",
   "name": "python",
   "nbconvert_exporter": "python",
   "pygments_lexer": "ipython3",
   "version": "3.10.8"
  }
 },
 "nbformat": 4,
 "nbformat_minor": 5
}
